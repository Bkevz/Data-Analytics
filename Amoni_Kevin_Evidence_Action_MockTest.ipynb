{
  "nbformat": 4,
  "nbformat_minor": 0,
  "metadata": {
    "colab": {
      "provenance": [],
      "authorship_tag": "ABX9TyNxbpwZ5t7MCtAIFUdJ+Atv",
      "include_colab_link": true
    },
    "kernelspec": {
      "name": "python3",
      "display_name": "Python 3"
    },
    "language_info": {
      "name": "python"
    }
  },
  "cells": [
    {
      "cell_type": "markdown",
      "metadata": {
        "id": "view-in-github",
        "colab_type": "text"
      },
      "source": [
        "<a href=\"https://colab.research.google.com/github/Bkevz/Data-Analytics/blob/main/Amoni_Kevin_Evidence_Action_MockTest.ipynb\" target=\"_parent\"><img src=\"https://colab.research.google.com/assets/colab-badge.svg\" alt=\"Open In Colab\"/></a>"
      ]
    },
    {
      "cell_type": "code",
      "execution_count": 163,
      "metadata": {
        "id": "IgyckOaOb3yI"
      },
      "outputs": [],
      "source": [
        "import pandas  as pd #importing of library"
      ]
    },
    {
      "cell_type": "code",
      "source": [
        "mockdata=pd.read_csv(\"MOCK_DATA.csv\") #imported the data\n",
        "mockdata"
      ],
      "metadata": {
        "id": "0kpIdVC8cgQu"
      },
      "execution_count": null,
      "outputs": []
    },
    {
      "cell_type": "code",
      "source": [
        "mockdata = mockdata.apply(lambda x: x.str.lower() if x.dtype == \"object\" else x) #changing all the text values into lowercase.\n",
        "mockdata"
      ],
      "metadata": {
        "id": "Ii-EJdPSh4bz"
      },
      "execution_count": null,
      "outputs": []
    },
    {
      "cell_type": "code",
      "source": [
        "mockdata['Barcode'] = mockdata['Barcode'].str.replace('/', '-') #finding & replacing ''/'' with \"-\""
      ],
      "metadata": {
        "id": "iV4nsYDpK3gR"
      },
      "execution_count": 188,
      "outputs": []
    },
    {
      "cell_type": "code",
      "source": [
        "columns_to_removeMissingData = ['ID','Barcode'] #calling the columns to find missing values in\n",
        "mockdata = mockdata.dropna(subset=columns_to_removeMissingData) #deleting the missing rows\n",
        "print(mockdata)"
      ],
      "metadata": {
        "id": "2ejkohNEkDs-"
      },
      "execution_count": null,
      "outputs": []
    },
    {
      "cell_type": "code",
      "source": [
        "mean_year = int(mockdata['dispenser_install_year'].mean())#calculating mean ignoring missing values.\n",
        "median_year = int(mockdata['dispenser_install_year'].median()) #calculating median ignoring values.\n",
        "print(\"The media year is: \",mean_year)\n",
        "print(\"The median year is: \",median_year)"
      ],
      "metadata": {
        "colab": {
          "base_uri": "https://localhost:8080/"
        },
        "id": "aJdaWZitlQU-",
        "outputId": "5c3a8db8-1119-4e8a-e29f-cced46a656e0"
      },
      "execution_count": 191,
      "outputs": [
        {
          "output_type": "stream",
          "name": "stdout",
          "text": [
            "The media year is:  2000\n",
            "The median year is:  2002\n"
          ]
        }
      ]
    },
    {
      "cell_type": "code",
      "source": [
        "columns_to_check = ['ID','IP_Adress','Barcode'] #calling out the columns\n",
        "has_separator = mockdata[columns_to_check].apply(lambda x: x.str.contains('-')).any().any() #checking for availability of hypen in the columns ID.Adress and Barode\n",
        "if has_separator:\n",
        "    print(\"All of the columns contains a separator with hyphen.\")\n",
        "else:\n",
        "    print(\"None of the columns contain a separator with hyphen.\")"
      ],
      "metadata": {
        "id": "XjDNEHFHpiL8"
      },
      "execution_count": null,
      "outputs": []
    },
    {
      "cell_type": "code",
      "source": [
        "split_parts = mockdata['ID'].str.split('-', n=2, expand=True) #splitting ID column with delimiter hypen and creating 3 columns from it\n",
        "mockdata.loc[:, 'county_code'] = split_parts[0] #naming of the split column (county_code)\n",
        "mockdata.loc[:, 'subcounty_code'] = split_parts[1]#naming of the split column (subcounty_code)\n",
        "mockdata.loc[:, 'wpt_code'] = split_parts[2] #naming of the split column (wpt_code)\n",
        "print(mockdata)"
      ],
      "metadata": {
        "id": "J9NGADXutE7b"
      },
      "execution_count": null,
      "outputs": []
    },
    {
      "cell_type": "code",
      "source": [
        "column_name = 'Gender'\n",
        "value_counts = mockdata[column_name].value_counts() # Calculate the value counts of the column\n",
        "proportion_male = value_counts['male'] / value_counts.sum() # Calculate the proportion of males\n",
        "print(\"Proportion of males:\", proportion_male) # Print the proportion of males"
      ],
      "metadata": {
        "colab": {
          "base_uri": "https://localhost:8080/"
        },
        "id": "cgla2U1E5pb8",
        "outputId": "3d778ddf-c96a-48b2-9170-dc64a1766e2e"
      },
      "execution_count": 196,
      "outputs": [
        {
          "output_type": "stream",
          "name": "stdout",
          "text": [
            "Proportion of males: 0.13873473917869034\n"
          ]
        }
      ]
    },
    {
      "cell_type": "code",
      "source": [
        "column_name = 'program'\n",
        "mockdata['program'] = mockdata[column_name].str.replace(' ', '') #finding is there's space and replacing\n",
        "mockdata['program'] = mockdata[column_name].str.capitalize() #capitaizing the first letter\n",
        "print(mockdata)"
      ],
      "metadata": {
        "id": "FeCHRsb6-amq"
      },
      "execution_count": null,
      "outputs": []
    },
    {
      "cell_type": "code",
      "source": [
        "column_name = 'program'\n",
        "mockdata[column_name] = mockdata[column_name].str.replace('Kibuku\\d+', 'Kibuku', regex=True) # Replace values in the column 'program'\n",
        "print(mockdata)"
      ],
      "metadata": {
        "id": "cFg8k7W8BwWa"
      },
      "execution_count": null,
      "outputs": []
    },
    {
      "cell_type": "code",
      "source": [
        "print(mockdata) #calling our dataframe to check if all the conditions are met."
      ],
      "metadata": {
        "id": "fGsyZVDFCFxL"
      },
      "execution_count": null,
      "outputs": []
    },
    {
      "cell_type": "code",
      "source": [
        "mockdata.to_csv('mockdata.csv', index=False) #Exporting of data to loal machine\n"
      ],
      "metadata": {
        "id": "A_xVIavbEwuq"
      },
      "execution_count": 201,
      "outputs": []
    }
  ]
}