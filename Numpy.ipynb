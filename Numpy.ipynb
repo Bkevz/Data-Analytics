{
  "nbformat": 4,
  "nbformat_minor": 0,
  "metadata": {
    "colab": {
      "provenance": [],
      "authorship_tag": "ABX9TyMa6BjkymhGids6gyMd3krA",
      "include_colab_link": true
    },
    "kernelspec": {
      "name": "python3",
      "display_name": "Python 3"
    },
    "language_info": {
      "name": "python"
    }
  },
  "cells": [
    {
      "cell_type": "markdown",
      "metadata": {
        "id": "view-in-github",
        "colab_type": "text"
      },
      "source": [
        "<a href=\"https://colab.research.google.com/github/Bkevz/Data-Analytics/blob/main/Numpy.ipynb\" target=\"_parent\"><img src=\"https://colab.research.google.com/assets/colab-badge.svg\" alt=\"Open In Colab\"/></a>"
      ]
    },
    {
      "cell_type": "code",
      "execution_count": null,
      "metadata": {
        "colab": {
          "base_uri": "https://localhost:8080/"
        },
        "id": "DpnG7EwmGJYl",
        "outputId": "50409bab-6505-45e1-ebd5-b91682a79b72"
      },
      "outputs": [
        {
          "output_type": "stream",
          "name": "stdout",
          "text": [
            "Looking in indexes: https://pypi.org/simple, https://us-python.pkg.dev/colab-wheels/public/simple/\n",
            "Requirement already satisfied: numpy in /usr/local/lib/python3.10/dist-packages (1.22.4)\n"
          ]
        }
      ],
      "source": [
        "!pip install numpy"
      ]
    },
    {
      "cell_type": "code",
      "source": [
        "import numpy\n",
        "numpy.  __version__"
      ],
      "metadata": {
        "colab": {
          "base_uri": "https://localhost:8080/",
          "height": 38
        },
        "id": "WEdP9n04Hp1D",
        "outputId": "43187169-5651-42d6-8af6-6df0c337e227"
      },
      "execution_count": null,
      "outputs": [
        {
          "output_type": "execute_result",
          "data": {
            "text/plain": [
              "'1.22.4'"
            ],
            "application/vnd.google.colaboratory.intrinsic+json": {
              "type": "string"
            }
          },
          "metadata": {},
          "execution_count": 4
        }
      ]
    },
    {
      "cell_type": "markdown",
      "source": [
        "Array initiliazation using numpy -single dimensional"
      ],
      "metadata": {
        "id": "HwSPtUh5KFo9"
      }
    },
    {
      "cell_type": "code",
      "source": [
        "import numpy as np\n",
        "a = np.array([5,9,9,4])\n",
        "print(a)"
      ],
      "metadata": {
        "colab": {
          "base_uri": "https://localhost:8080/"
        },
        "id": "9MB-NXcLH8kl",
        "outputId": "4299cd52-41bf-4508-dfe6-9cd498250924"
      },
      "execution_count": null,
      "outputs": [
        {
          "output_type": "stream",
          "name": "stdout",
          "text": [
            "[5 9 9 4]\n"
          ]
        }
      ]
    },
    {
      "cell_type": "markdown",
      "source": [
        "Multidimensional array _ matrix"
      ],
      "metadata": {
        "id": "WEnQhgAQLkas"
      }
    },
    {
      "cell_type": "code",
      "source": [
        "import numpy as np\n",
        "b = np.array([(5,9,9,4),(4,6,8,3)])\n",
        "print(b)"
      ],
      "metadata": {
        "colab": {
          "base_uri": "https://localhost:8080/"
        },
        "id": "mLje6CarLZOl",
        "outputId": "935e2b8f-c4c7-4068-cf8f-1ac8ca57141a"
      },
      "execution_count": null,
      "outputs": [
        {
          "output_type": "stream",
          "name": "stdout",
          "text": [
            "[[5 9 9 4]\n",
            " [4 6 8 3]]\n"
          ]
        }
      ]
    },
    {
      "cell_type": "markdown",
      "source": [
        "Generating arrays"
      ],
      "metadata": {
        "id": "Ae0XYvwHMjag"
      }
    },
    {
      "cell_type": "code",
      "source": [
        "import numpy as np\n",
        "c = np.arange(10) #range of values in array\n",
        "d = np. linspace(1,10,5) #set of values by interval [start,end,no.of valuesEqualInterval]\n",
        "print(c)\n",
        "print(d)"
      ],
      "metadata": {
        "colab": {
          "base_uri": "https://localhost:8080/"
        },
        "id": "vi7-v91fMhh4",
        "outputId": "1058faa4-687a-4f1f-a40e-03b7ab9e1824"
      },
      "execution_count": null,
      "outputs": [
        {
          "output_type": "stream",
          "name": "stdout",
          "text": [
            "[0 1 2 3 4 5 6 7 8 9]\n",
            "[ 1.    3.25  5.5   7.75 10.  ]\n"
          ]
        }
      ]
    },
    {
      "cell_type": "code",
      "source": [
        "import numpy as np\n",
        "a = np.array ([(7,9,25,16), (24,64,14,19)])\n",
        "b = np.array([(10,56,81,74), (34,56,95,73)])\n",
        "print(b.sum(axis=0))#sum of dimensio of 1 and 2 elements\n",
        "print(b.sum(axis=1)) #sum of a elements from dim 1 and 2 seperately\n",
        "print(np.sqrt(a)) #squaroot\n",
        "print(np.std(a)) #standard deviation\n",
        "print(np.exp(a)) #exponential\n",
        "print(np.log(a)) #natural log\n",
        "print(np.log10(a)) #log base 10\n",
        "\n",
        "print(np.vstack((a,b))) # vertical stack\n",
        "print(np.hstack((a,b))) #horizontally stack\n",
        "print(a.ravel()) #combining as one dimenision"
      ],
      "metadata": {
        "colab": {
          "base_uri": "https://localhost:8080/"
        },
        "id": "6eUwQktMSsTu",
        "outputId": "02a0ee33-d1ac-4492-e892-92b1e388d779"
      },
      "execution_count": 9,
      "outputs": [
        {
          "output_type": "stream",
          "name": "stdout",
          "text": [
            "[ 44 112 176 147]\n",
            "[221 258]\n",
            "[[2.64575131 3.         5.         4.        ]\n",
            " [4.89897949 8.         3.74165739 4.35889894]]\n",
            "16.880091824394796\n",
            "[[1.09663316e+03 8.10308393e+03 7.20048993e+10 8.88611052e+06]\n",
            " [2.64891221e+10 6.23514908e+27 1.20260428e+06 1.78482301e+08]]\n",
            "[[1.94591015 2.19722458 3.21887582 2.77258872]\n",
            " [3.17805383 4.15888308 2.63905733 2.94443898]]\n",
            "[[0.84509804 0.95424251 1.39794001 1.20411998]\n",
            " [1.38021124 1.80617997 1.14612804 1.2787536 ]]\n",
            "[[ 7  9 25 16]\n",
            " [24 64 14 19]\n",
            " [10 56 81 74]\n",
            " [34 56 95 73]]\n",
            "[[ 7  9 25 16 10 56 81 74]\n",
            " [24 64 14 19 34 56 95 73]]\n",
            "[ 7  9 25 16 24 64 14 19]\n"
          ]
        }
      ]
    },
    {
      "cell_type": "code",
      "source": [],
      "metadata": {
        "id": "w-ScbBo6W970"
      },
      "execution_count": null,
      "outputs": []
    }
  ]
}